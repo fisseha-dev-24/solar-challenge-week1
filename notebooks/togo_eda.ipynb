{
 "cells": [
  {
   "cell_type": "markdown",
   "metadata": {},
   "source": [
    "# Togo Solar Data - Exploratory Data Analysis (EDA)\n",
    "\n",
    "This notebook covers data profiling, cleaning, and exploratory analysis for the Togo solar dataset.\n",
    "\n",
    "## Table of Contents\n",
    "1. Load Data\n",
    "2. Summary Statistics & Missing Value Report\n",
    "3. Outlier Detection & Basic Cleaning\n",
    "4. Time Series Analysis\n",
    "5. Cleaning Impact\n",
    "6. Correlation & Relationship Analysis\n",
    "7. Wind & Distribution Analysis\n",
    "8. Temperature Analysis\n",
    "9. Bubble Chart\n",
    "10. Export Cleaned Data\n"
   ]
  },
  {
   "cell_type": "code",
   "metadata": {},
   "source": [
    "# 1. Load Data\n",
    "import pandas as pd\n",
    "import numpy as np\n",
    "import matplotlib.pyplot as plt\n",
    "import seaborn as sns\n",
    "\n",
    "df = pd.read_csv('../data/togo.csv', parse_dates=['Timestamp'])\n",
    "df.head()"
   ],
   "execution_count": null,
   "outputs": []
  },
  {
   "cell_type": "markdown",
   "metadata": {},
   "source": [
    "## 2. Summary Statistics & Missing-Value Report"
   ]
  },
  {
   "cell_type": "code",
   "metadata": {},
   "source": [
    "# Numeric columns summary\n",
    "df.describe()"
   ],
   "execution_count": null,
   "outputs": []
  },
  {
   "cell_type": "code",
   "metadata": {},
   "source": [
    "# Missing values\n",
    "missing = df.isna().sum()\n",
    "print(missing)\n",
    "# Columns with >5% nulls\n",
    "threshold = 0.05\n",
    "n_rows = len(df)\n",
    "high_nulls = missing[missing > threshold*n_rows]\n",
    "print('Columns with >5% missing:', high_nulls)"
   ],
   "execution_count": null,
   "outputs": []
  },
  {
   "cell_type": "markdown",
   "metadata": {},
   "source": [
    "## 3. Outlier Detection & Basic Cleaning"
   ]
  },
  {
   "cell_type": "code",
   "metadata": {},
   "source": [
    "from scipy.stats import zscore\n",
    "\n",
    "outlier_cols = ['GHI', 'DNI', 'DHI', 'ModA', 'ModB', 'WS', 'WSgust']\n",
    "z_scores = np.abs(df[outlier_cols].apply(zscore, nan_policy='omit'))\n",
    "outliers = (z_scores > 3)\n",
    "print('Number of outliers per column:')\n",
    "print(outliers.sum())"
   ],
   "execution_count": null,
   "outputs": []
  },
  {
   "cell_type": "code",
   "metadata": {},
   "source": [
    "# Remove rows with outliers (optional) or impute\n",
    "df_clean = df[~(outliers.any(axis=1))].copy()\n",
    "# Alternatively, you can impute with median for missing values\n",
    "for col in outlier_cols:\n",
    "    df_clean[col] = df_clean[col].fillna(df_clean[col].median())\n",
    "# Check cleaning\n",
    "df_clean.isna().sum()"
   ],
   "execution_count": null,
   "outputs": []
  },
  {
   "cell_type": "markdown",
   "metadata": {},
   "source": [
    "## 4. Time Series Analysis"
   ]
  },
  {
   "cell_type": "code",
   "metadata": {},
   "source": [
    "fig, axs = plt.subplots(4, 1, figsize=(15,12), sharex=True)\n",
    "for i, col in enumerate(['GHI', 'DNI', 'DHI', 'Tamb']):\n",
    "    axs[i].plot(df_clean['Timestamp'], df_clean[col])\n",
    "    axs[i].set_title(col)\n",
    "plt.tight_layout()\n",
    "plt.show()"
   ],
   "execution_count": null,
   "outputs": []
  },
  {
   "cell_type": "markdown",
   "metadata": {},
   "source": [
    "## 5. Cleaning Impact (ModA & ModB before/after Cleaning)"
   ]
  },
  {
   "cell_type": "code",
   "metadata": {},
   "source": [
    "df_clean.groupby('Cleaning')[['ModA', 'ModB']].mean().plot(kind='bar', figsize=(8,6))\n",
    "plt.title('Average ModA & ModB by Cleaning')\n",
    "plt.ylabel('Irradiance (W/m²)')\n",
    "plt.show()"
   ],
   "execution_count": null,
   "outputs": []
  },
  {
   "cell_type": "markdown",
   "metadata": {},
   "source": [
    "## 6. Correlation & Relationship Analysis"
   ]
  },
  {
   "cell_type": "code",
   "metadata": {},
   "source": [
    "corr_cols = ['GHI', 'DNI', 'DHI', 'TModA', 'TModB']\n",
    "plt.figure(figsize=(8,6))\n",
    "sns.heatmap(df_clean[corr_cols].corr(), annot=True, cmap='coolwarm')\n",
    "plt.title('Correlation Heatmap')\n",
    "plt.show()"
   ],
   "execution_count": null,
   "outputs": []
  },
  {
   "cell_type": "code",
   "metadata": {},
   "source": [
    "# Scatter plots\n",
    "sns.scatterplot(x='WS', y='GHI', data=df_clean)\n",
    "plt.title('WS vs GHI')\n",
    "plt.show()\n",
    "\n",
    "sns.scatterplot(x='WSgust', y='GHI', data=df_clean)\n",
    "plt.title('WSgust vs GHI')\n",
    "plt.show()\n",
    "\n",
    "sns.scatterplot(x='WD', y='GHI', data=df_clean)\n",
    "plt.title('WD vs GHI')\n",
    "plt.show()\n",
    "\n",
    "sns.scatterplot(x='RH', y='Tamb', data=df_clean)\n",
    "plt.title('RH vs Tamb')\n",
    "plt.show()\n",
    "\n",
    "sns.scatterplot(x='RH', y='GHI', data=df_clean)\n",
    "plt.title('RH vs GHI')\n",
    "plt.show()"
   ],
   "execution_count": null,
   "outputs": []
  },
  {
   "cell_type": "markdown",
   "metadata": {},
   "source": [
    "## 7. Wind & Distribution Analysis"
   ]
  },
  {
   "cell_type": "code",
   "metadata": {},
   "source": [
    "# Wind rose plot (radial bar)\n",
    "import matplotlib.cm as cm\n",
    "from math import pi\n",
    "wd = df_clean['WD'].dropna()\n",
    "ws = df_clean['WS'].dropna()\n",
    "plt.figure(figsize=(8,8))\n",
    "ax = plt.subplot(111, polar=True)\n",
    "theta = np.deg2rad(wd)\n",
    "ax.scatter(theta, ws, alpha=0.5)\n",
    "ax.set_title('Wind Rose: WS vs WD')\n",
    "plt.show()\n",
    "\n",
    "# Histograms\n",
    "df_clean['GHI'].hist(bins=30, alpha=0.7)\n",
    "plt.title('Histogram of GHI')\n",
    "plt.xlabel('GHI (W/m²)')\n",
    "plt.ylabel('Frequency')\n",
    "plt.show()\n",
    "df_clean['WS'].hist(bins=30, alpha=0.7)\n",
    "plt.title('Histogram of WS')\n",
    "plt.xlabel('WS (m/s)')\n",
    "plt.ylabel('Frequency')\n",
    "plt.show()"
   ],
   "execution_count": null,
   "outputs": []
  },
  {
   "cell_type": "markdown",
   "metadata": {},
   "source": [
    "## 8. Temperature Analysis"
   ]
  },
  {
   "cell_type": "code",
   "metadata": {},
   "source": [
    "sns.scatterplot(x='RH', y='Tamb', data=df_clean)\n",
    "plt.title('Relative Humidity vs Temperature')\n",
    "plt.show()\n",
    "\n",
    "sns.scatterplot(x='RH', y='GHI', data=df_clean)\n",
    "plt.title('Relative Humidity vs GHI')\n",
    "plt.show()"
   ],
   "execution_count": null,
   "outputs": []
  },
  {
   "cell_type": "markdown",
   "metadata": {},
   "source": [
    "## 9. Bubble Chart"
   ]
  },
  {
   "cell_type": "code",
   "metadata": {},
   "source": [
    "plt.figure(figsize=(10,7))\n",
    "sns.scatterplot(x='GHI', y='Tamb', size='RH', data=df_clean, legend=False, alpha=0.5)\n",
    "plt.title('Bubble Chart: GHI vs Tamb (size=RH)')\n",
    "plt.xlabel('GHI (W/m²)')\n",
    "plt.ylabel('Tamb (°C)')\n",
    "plt.show()"
   ],
   "execution_count": null,
   "outputs": []
  },
  {
   "cell_type": "markdown",
   "metadata": {},
   "source": [
    "## 10. Export Cleaned Data"
   ]
  },
  {
   "cell_type": "code",
   "metadata": {},
   "source": [
    "# Export (do NOT commit this CSV)\n",
    "df_clean.to_csv('../data/togo_clean.csv', index=False)"
   ],
   "execution_count": null,
   "outputs": []
  },
  {
   "cell_type": "markdown",
   "metadata": {},
   "source": [
    "---\n",
    "### References\n",
    "- [Pandas documentation](https://pandas.pydata.org/docs/)\n",
    "- [Matplotlib gallery](https://matplotlib.org/stable/gallery/index.html)\n",
    "- [Seaborn gallery](https://seaborn.pydata.org/examples/index.html)\n",
    "- [Scipy Z-score](https://docs.scipy.org/doc/scipy/reference/generated/scipy.stats.zscore.html)\n",
    "- [GitHub task instructions](<link to your challenge>)"
   ]
  }
 ],
 "metadata": {
  "kernelspec": {
   "display_name": "Python 3",
   "language": "python",
   "name": "python3"
  },
  "language_info": {
   "name": "python",
   "version": "3.8"
  }
 },
 "nbformat": 4,
 "nbformat_minor": 5
}