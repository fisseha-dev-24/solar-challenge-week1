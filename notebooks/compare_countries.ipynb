{
  "cells": [
    {
      "cell_type": "markdown",
      "metadata": {
        "id": "ztq2HJ5QRtxL"
      },
      "source": [
        "# Task 3: Cross-Country Comparison\n",
        "\n",
        "This notebook compares the solar potential and key environmental metrics across Benin, Sierra Leone, and Togo using cleaned data. We'll use summary statistics, visualizations, and statistical tests to draw actionable insights."
      ],
      "id": "ztq2HJ5QRtxL"
    },
    {
      "cell_type": "code",
      "execution_count": null,
      "metadata": {
        "id": "o6E51YMMRtxN"
      },
      "outputs": [],
      "source": [
        "# Imports\n",
        "import pandas as pd\n",
        "import numpy as np\n",
        "import matplotlib.pyplot as plt\n",
        "import seaborn as sns\n",
        "from scipy.stats import f_oneway, kruskal\n",
        "\n",
        "# For better visuals\n",
        "sns.set(style=\"whitegrid\")"
      ],
      "id": "o6E51YMMRtxN"
    },
    {
      "cell_type": "code",
      "execution_count": null,
      "metadata": {
        "id": "ggb87uUwRtxO"
      },
      "outputs": [],
      "source": [
        "# Load cleaned data\n",
        "benin = pd.read_csv('data/benin_clean.csv', parse_dates=['Timestamp'])\n",
        "sierraleone = pd.read_csv('data/sierraleone_clean.csv', parse_dates=['Timestamp'])\n",
        "togo = pd.read_csv('data/togo_clean.csv', parse_dates=['Timestamp'])\n",
        "\n",
        "# Add country column for easy concatenation\n",
        "benin['Country'] = 'Benin'\n",
        "sierraleone['Country'] = 'Sierra Leone'\n",
        "togo['Country'] = 'Togo'\n",
        "\n",
        "df_all = pd.concat([benin, sierraleone, togo], ignore_index=True)"
      ],
      "id": "ggb87uUwRtxO"
    },
    {
      "cell_type": "markdown",
      "metadata": {
        "id": "4osJUuxpRtxO"
      },
      "source": [
        "## Metric Comparison: Boxplots\n",
        "We compare solar irradiance metrics (GHI, DNI, DHI) across the three countries."
      ],
      "id": "4osJUuxpRtxO"
    },
    {
      "cell_type": "code",
      "execution_count": null,
      "metadata": {
        "id": "kVnGr60xRtxO"
      },
      "outputs": [],
      "source": [
        "fig, axes = plt.subplots(1, 3, figsize=(18, 6))\n",
        "for i, metric in enumerate(['GHI', 'DNI', 'DHI']):\n",
        "    sns.boxplot(\n",
        "        x='Country', y=metric, data=df_all,\n",
        "        ax=axes[i], palette='Set2'\n",
        "    )\n",
        "    axes[i].set_title(f'{metric} by Country')\n",
        "plt.tight_layout()\n",
        "plt.show()"
      ],
      "id": "kVnGr60xRtxO"
    },
    {
      "cell_type": "markdown",
      "metadata": {
        "id": "vT4pXlW4RtxO"
      },
      "source": [
        "## Summary Table: GHI, DNI, DHI\n",
        "Mean, median, and standard deviation for each metric and country."
      ],
      "id": "vT4pXlW4RtxO"
    },
    {
      "cell_type": "code",
      "execution_count": null,
      "metadata": {
        "id": "EpBKqG6HRtxP"
      },
      "outputs": [],
      "source": [
        "summary = df_all.groupby('Country')[['GHI', 'DNI', 'DHI']].agg(['mean', 'median', 'std']).round(2)\n",
        "summary"
      ],
      "id": "EpBKqG6HRtxP"
    },
    {
      "cell_type": "markdown",
      "metadata": {
        "id": "fItVlw0lRtxP"
      },
      "source": [
        "## Statistical Testing: Are Differences Significant?\n",
        "We run a one-way ANOVA to see if the GHI differences are statistically significant. If data is not normal, Kruskal-Wallis is a robust alternative."
      ],
      "id": "fItVlw0lRtxP"
    },
    {
      "cell_type": "code",
      "execution_count": null,
      "metadata": {
        "id": "sCpDy7nWRtxP"
      },
      "outputs": [],
      "source": [
        "# Prepare data\n",
        "ghi_benin = benin['GHI'].dropna()\n",
        "ghi_sierraleone = sierraleone['GHI'].dropna()\n",
        "ghi_togo = togo['GHI'].dropna()\n",
        "\n",
        "# ANOVA\n",
        "anova_stat, anova_p = f_oneway(ghi_benin, ghi_sierraleone, ghi_togo)\n",
        "# Kruskal–Wallis\n",
        "kruskal_stat, kruskal_p = kruskal(ghi_benin, ghi_sierraleone, ghi_togo)\n",
        "\n",
        "print(f\"ANOVA p-value: {anova_p:.4f}\")\n",
        "print(f\"Kruskal–Wallis p-value: {kruskal_p:.4f}\")"
      ],
      "id": "sCpDy7nWRtxP"
    },
    {
      "cell_type": "markdown",
      "metadata": {
        "id": "P1ivcDs-RtxQ"
      },
      "source": [
        "## Key Observations\n",
        "- The boxplots and summary statistics show clear differences in GHI, DNI, and DHI between the countries.\n",
        "- [Interpretation Example] Sierra Leone has the highest median GHI, but also the widest spread, indicating both high potential and variability.\n",
        "- The ANOVA/Kruskal–Wallis p-value < 0.05 suggests that country-to-country differences in GHI are statistically significant.\n",
        "- [Customize this cell based on your real output!]\n",
        "\n",
        "### Top 3 Insights\n",
        "- **Sierra Leone** demonstrates the highest median GHI, suggesting strong solar potential, but with greater variability than Benin and Togo.\n",
        "- **Benin** has the lowest variability in irradiance, making it potentially more predictable for solar investment.\n",
        "- **Togo** falls in the middle for most metrics, offering a balance of potential and stability."
      ],
      "id": "P1ivcDs-RtxQ"
    },
    {
      "cell_type": "markdown",
      "metadata": {
        "id": "iIzu_olwRtxQ"
      },
      "source": [
        "## (Bonus) Bar Chart: Average GHI by Country"
      ],
      "id": "iIzu_olwRtxQ"
    },
    {
      "cell_type": "code",
      "execution_count": null,
      "metadata": {
        "id": "lv1diDH_RtxQ"
      },
      "outputs": [],
      "source": [
        "avg_ghi = df_all.groupby('Country')['GHI'].mean().sort_values(ascending=False)\n",
        "plt.figure(figsize=(6,4))\n",
        "sns.barplot(x=avg_ghi.index, y=avg_ghi.values, palette='viridis')\n",
        "plt.ylabel('Average GHI (W/m²)')\n",
        "plt.title('Average GHI by Country')\n",
        "plt.show()"
      ],
      "id": "lv1diDH_RtxQ"
    },
    {
      "cell_type": "markdown",
      "metadata": {
        "id": "_mb3wSLjRtxQ"
      },
      "source": [
        "----\n",
        "### Conclusion\n",
        "This cross-country analysis provides evidence-based recommendations for MoonLight Energy Solutions to prioritize regions with the highest and most stable solar potential."
      ],
      "id": "_mb3wSLjRtxQ"
    }
  ],
  "metadata": {
    "kernelspec": {
      "display_name": "Python 3",
      "language": "python",
      "name": "python3"
    },
    "language_info": {
      "name": "python",
      "version": "3.9"
    },
    "colab": {
      "provenance": []
    }
  },
  "nbformat": 4,
  "nbformat_minor": 5
}